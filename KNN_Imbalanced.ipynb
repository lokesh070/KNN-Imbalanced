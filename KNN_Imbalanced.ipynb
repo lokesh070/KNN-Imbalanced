{
 "cells": [
  {
   "cell_type": "code",
   "execution_count": 1,
   "id": "02a7eb1f",
   "metadata": {},
   "outputs": [],
   "source": [
    "import numpy as np\n",
    "import pandas as pd\n",
    "import matplotlib.pyplot as plt \n",
    "import seaborn as sns"
   ]
  },
  {
   "cell_type": "code",
   "execution_count": 77,
   "id": "131a4e44",
   "metadata": {},
   "outputs": [],
   "source": [
    "from sklearn.model_selection import train_test_split\n",
    "from sklearn.neighbors import KNeighborsClassifier\n",
    "from sklearn.metrics import confusion_matrix, f1_score, precision_score, recall_score,fbeta_score,classification_report\n",
    "from sklearn.metrics import ConfusionMatrixDisplay\n",
    "\n",
    "from sklearn.linear_model import LogisticRegression\n",
    "from sklearn.pipeline import make_pipeline\n",
    "from sklearn.preprocessing import StandardScaler\n",
    "\n",
    "from sklearn.impute import KNNImputer\n",
    "from sklearn.preprocessing import MinMaxScaler"
   ]
  },
  {
   "cell_type": "code",
   "execution_count": 4,
   "id": "7d493e38",
   "metadata": {},
   "outputs": [
    {
     "data": {
      "text/html": [
       "<div>\n",
       "<style scoped>\n",
       "    .dataframe tbody tr th:only-of-type {\n",
       "        vertical-align: middle;\n",
       "    }\n",
       "\n",
       "    .dataframe tbody tr th {\n",
       "        vertical-align: top;\n",
       "    }\n",
       "\n",
       "    .dataframe thead th {\n",
       "        text-align: right;\n",
       "    }\n",
       "</style>\n",
       "<table border=\"1\" class=\"dataframe\">\n",
       "  <thead>\n",
       "    <tr style=\"text-align: right;\">\n",
       "      <th></th>\n",
       "      <th>Unnamed: 0</th>\n",
       "      <th>Region</th>\n",
       "      <th>Fresh</th>\n",
       "      <th>Milk</th>\n",
       "      <th>Grocery</th>\n",
       "      <th>Frozen</th>\n",
       "      <th>Detergents_Paper</th>\n",
       "      <th>Delicassen</th>\n",
       "    </tr>\n",
       "  </thead>\n",
       "  <tbody>\n",
       "    <tr>\n",
       "      <th>0</th>\n",
       "      <td>0</td>\n",
       "      <td>3.0</td>\n",
       "      <td>12669.0</td>\n",
       "      <td>9656.0</td>\n",
       "      <td>7561.0</td>\n",
       "      <td>214.0</td>\n",
       "      <td>2674.0</td>\n",
       "      <td>1338.0</td>\n",
       "    </tr>\n",
       "    <tr>\n",
       "      <th>1</th>\n",
       "      <td>1</td>\n",
       "      <td>3.0</td>\n",
       "      <td>7057.0</td>\n",
       "      <td>9810.0</td>\n",
       "      <td>9568.0</td>\n",
       "      <td>1762.0</td>\n",
       "      <td>3293.0</td>\n",
       "      <td>1776.0</td>\n",
       "    </tr>\n",
       "    <tr>\n",
       "      <th>2</th>\n",
       "      <td>2</td>\n",
       "      <td>3.0</td>\n",
       "      <td>6353.0</td>\n",
       "      <td>8808.0</td>\n",
       "      <td>NaN</td>\n",
       "      <td>2405.0</td>\n",
       "      <td>3516.0</td>\n",
       "      <td>7844.0</td>\n",
       "    </tr>\n",
       "    <tr>\n",
       "      <th>3</th>\n",
       "      <td>3</td>\n",
       "      <td>3.0</td>\n",
       "      <td>13265.0</td>\n",
       "      <td>1196.0</td>\n",
       "      <td>4221.0</td>\n",
       "      <td>6404.0</td>\n",
       "      <td>507.0</td>\n",
       "      <td>1788.0</td>\n",
       "    </tr>\n",
       "  </tbody>\n",
       "</table>\n",
       "</div>"
      ],
      "text/plain": [
       "   Unnamed: 0  Region    Fresh    Milk  Grocery  Frozen  Detergents_Paper  \\\n",
       "0           0     3.0  12669.0  9656.0   7561.0   214.0            2674.0   \n",
       "1           1     3.0   7057.0  9810.0   9568.0  1762.0            3293.0   \n",
       "2           2     3.0   6353.0  8808.0      NaN  2405.0            3516.0   \n",
       "3           3     3.0  13265.0  1196.0   4221.0  6404.0             507.0   \n",
       "\n",
       "   Delicassen  \n",
       "0      1338.0  \n",
       "1      1776.0  \n",
       "2      7844.0  \n",
       "3      1788.0  "
      ]
     },
     "execution_count": 4,
     "metadata": {},
     "output_type": "execute_result"
    }
   ],
   "source": [
    "df_imp = pd.read_csv(\"C:\\\\Users\\\\cheta\\\\Downloads\\\\knn_imputation.csv\")\n",
    "df_imp.head(4)"
   ]
  },
  {
   "cell_type": "code",
   "execution_count": 7,
   "id": "80f4eaba",
   "metadata": {},
   "outputs": [
    {
     "data": {
      "text/plain": [
       "Unnamed: 0           0\n",
       "Region               8\n",
       "Fresh               13\n",
       "Milk                15\n",
       "Grocery              9\n",
       "Frozen               8\n",
       "Detergents_Paper    10\n",
       "Delicassen          11\n",
       "dtype: int64"
      ]
     },
     "execution_count": 7,
     "metadata": {},
     "output_type": "execute_result"
    }
   ],
   "source": [
    "df_imp.isnull().sum()"
   ]
  },
  {
   "cell_type": "code",
   "execution_count": 8,
   "id": "715b2d4b",
   "metadata": {},
   "outputs": [],
   "source": [
    "scaler = MinMaxScaler()"
   ]
  },
  {
   "cell_type": "code",
   "execution_count": 10,
   "id": "94783e9c",
   "metadata": {},
   "outputs": [
    {
     "data": {
      "text/html": [
       "<div>\n",
       "<style scoped>\n",
       "    .dataframe tbody tr th:only-of-type {\n",
       "        vertical-align: middle;\n",
       "    }\n",
       "\n",
       "    .dataframe tbody tr th {\n",
       "        vertical-align: top;\n",
       "    }\n",
       "\n",
       "    .dataframe thead th {\n",
       "        text-align: right;\n",
       "    }\n",
       "</style>\n",
       "<table border=\"1\" class=\"dataframe\">\n",
       "  <thead>\n",
       "    <tr style=\"text-align: right;\">\n",
       "      <th></th>\n",
       "      <th>Unnamed: 0</th>\n",
       "      <th>Region</th>\n",
       "      <th>Fresh</th>\n",
       "      <th>Milk</th>\n",
       "      <th>Grocery</th>\n",
       "      <th>Frozen</th>\n",
       "      <th>Detergents_Paper</th>\n",
       "      <th>Delicassen</th>\n",
       "    </tr>\n",
       "  </thead>\n",
       "  <tbody>\n",
       "    <tr>\n",
       "      <th>0</th>\n",
       "      <td>0.000000</td>\n",
       "      <td>1.0</td>\n",
       "      <td>0.112821</td>\n",
       "      <td>0.129791</td>\n",
       "      <td>0.081464</td>\n",
       "      <td>0.003106</td>\n",
       "      <td>0.065427</td>\n",
       "      <td>0.027847</td>\n",
       "    </tr>\n",
       "    <tr>\n",
       "      <th>1</th>\n",
       "      <td>0.003759</td>\n",
       "      <td>1.0</td>\n",
       "      <td>0.062774</td>\n",
       "      <td>0.131890</td>\n",
       "      <td>0.103097</td>\n",
       "      <td>0.028548</td>\n",
       "      <td>0.080590</td>\n",
       "      <td>0.036984</td>\n",
       "    </tr>\n",
       "    <tr>\n",
       "      <th>2</th>\n",
       "      <td>0.007519</td>\n",
       "      <td>1.0</td>\n",
       "      <td>0.056495</td>\n",
       "      <td>0.118232</td>\n",
       "      <td>NaN</td>\n",
       "      <td>0.039116</td>\n",
       "      <td>0.086052</td>\n",
       "      <td>0.163559</td>\n",
       "    </tr>\n",
       "    <tr>\n",
       "      <th>3</th>\n",
       "      <td>0.011278</td>\n",
       "      <td>1.0</td>\n",
       "      <td>0.118136</td>\n",
       "      <td>0.014476</td>\n",
       "      <td>0.045464</td>\n",
       "      <td>0.104842</td>\n",
       "      <td>0.012346</td>\n",
       "      <td>0.037234</td>\n",
       "    </tr>\n",
       "  </tbody>\n",
       "</table>\n",
       "</div>"
      ],
      "text/plain": [
       "   Unnamed: 0  Region     Fresh      Milk   Grocery    Frozen  \\\n",
       "0    0.000000     1.0  0.112821  0.129791  0.081464  0.003106   \n",
       "1    0.003759     1.0  0.062774  0.131890  0.103097  0.028548   \n",
       "2    0.007519     1.0  0.056495  0.118232       NaN  0.039116   \n",
       "3    0.011278     1.0  0.118136  0.014476  0.045464  0.104842   \n",
       "\n",
       "   Detergents_Paper  Delicassen  \n",
       "0          0.065427    0.027847  \n",
       "1          0.080590    0.036984  \n",
       "2          0.086052    0.163559  \n",
       "3          0.012346    0.037234  "
      ]
     },
     "execution_count": 10,
     "metadata": {},
     "output_type": "execute_result"
    }
   ],
   "source": [
    "df_imp = pd.DataFrame(scaler.fit_transform(df_imp), columns = df_imp.columns)\n",
    "df_imp.head(4)"
   ]
  },
  {
   "cell_type": "code",
   "execution_count": 13,
   "id": "a5afd33c",
   "metadata": {},
   "outputs": [],
   "source": [
    "imputer = KNNImputer(n_neighbors=5)\n",
    "df_imp = pd.DataFrame(imputer.fit_transform(df_imp),columns=df_imp.columns)"
   ]
  },
  {
   "cell_type": "code",
   "execution_count": 14,
   "id": "abd349be",
   "metadata": {},
   "outputs": [
    {
     "data": {
      "text/html": [
       "<div>\n",
       "<style scoped>\n",
       "    .dataframe tbody tr th:only-of-type {\n",
       "        vertical-align: middle;\n",
       "    }\n",
       "\n",
       "    .dataframe tbody tr th {\n",
       "        vertical-align: top;\n",
       "    }\n",
       "\n",
       "    .dataframe thead th {\n",
       "        text-align: right;\n",
       "    }\n",
       "</style>\n",
       "<table border=\"1\" class=\"dataframe\">\n",
       "  <thead>\n",
       "    <tr style=\"text-align: right;\">\n",
       "      <th></th>\n",
       "      <th>Unnamed: 0</th>\n",
       "      <th>Region</th>\n",
       "      <th>Fresh</th>\n",
       "      <th>Milk</th>\n",
       "      <th>Grocery</th>\n",
       "      <th>Frozen</th>\n",
       "      <th>Detergents_Paper</th>\n",
       "      <th>Delicassen</th>\n",
       "    </tr>\n",
       "  </thead>\n",
       "  <tbody>\n",
       "    <tr>\n",
       "      <th>0</th>\n",
       "      <td>0.000000</td>\n",
       "      <td>1.0</td>\n",
       "      <td>0.112821</td>\n",
       "      <td>0.129791</td>\n",
       "      <td>0.081464</td>\n",
       "      <td>0.003106</td>\n",
       "      <td>0.065427</td>\n",
       "      <td>0.027847</td>\n",
       "    </tr>\n",
       "    <tr>\n",
       "      <th>1</th>\n",
       "      <td>0.003759</td>\n",
       "      <td>1.0</td>\n",
       "      <td>0.062774</td>\n",
       "      <td>0.131890</td>\n",
       "      <td>0.103097</td>\n",
       "      <td>0.028548</td>\n",
       "      <td>0.080590</td>\n",
       "      <td>0.036984</td>\n",
       "    </tr>\n",
       "    <tr>\n",
       "      <th>2</th>\n",
       "      <td>0.007519</td>\n",
       "      <td>1.0</td>\n",
       "      <td>0.056495</td>\n",
       "      <td>0.118232</td>\n",
       "      <td>0.110525</td>\n",
       "      <td>0.039116</td>\n",
       "      <td>0.086052</td>\n",
       "      <td>0.163559</td>\n",
       "    </tr>\n",
       "    <tr>\n",
       "      <th>3</th>\n",
       "      <td>0.011278</td>\n",
       "      <td>1.0</td>\n",
       "      <td>0.118136</td>\n",
       "      <td>0.014476</td>\n",
       "      <td>0.045464</td>\n",
       "      <td>0.104842</td>\n",
       "      <td>0.012346</td>\n",
       "      <td>0.037234</td>\n",
       "    </tr>\n",
       "  </tbody>\n",
       "</table>\n",
       "</div>"
      ],
      "text/plain": [
       "   Unnamed: 0  Region     Fresh      Milk   Grocery    Frozen  \\\n",
       "0    0.000000     1.0  0.112821  0.129791  0.081464  0.003106   \n",
       "1    0.003759     1.0  0.062774  0.131890  0.103097  0.028548   \n",
       "2    0.007519     1.0  0.056495  0.118232  0.110525  0.039116   \n",
       "3    0.011278     1.0  0.118136  0.014476  0.045464  0.104842   \n",
       "\n",
       "   Detergents_Paper  Delicassen  \n",
       "0          0.065427    0.027847  \n",
       "1          0.080590    0.036984  \n",
       "2          0.086052    0.163559  \n",
       "3          0.012346    0.037234  "
      ]
     },
     "execution_count": 14,
     "metadata": {},
     "output_type": "execute_result"
    }
   ],
   "source": [
    "df_imp.head(4)"
   ]
  },
  {
   "cell_type": "code",
   "execution_count": 16,
   "id": "4c0c6171",
   "metadata": {},
   "outputs": [
    {
     "data": {
      "text/plain": [
       "Unnamed: 0          0\n",
       "Region              0\n",
       "Fresh               0\n",
       "Milk                0\n",
       "Grocery             0\n",
       "Frozen              0\n",
       "Detergents_Paper    0\n",
       "Delicassen          0\n",
       "dtype: int64"
      ]
     },
     "execution_count": 16,
     "metadata": {},
     "output_type": "execute_result"
    }
   ],
   "source": [
    "df_imp.isna().sum()"
   ]
  },
  {
   "cell_type": "code",
   "execution_count": 132,
   "id": "2431195d",
   "metadata": {},
   "outputs": [],
   "source": [
    "churn = pd.read_csv(\"C:\\\\Users\\\\cheta\\\\Downloads\\\\Churn.csv\")"
   ]
  },
  {
   "cell_type": "code",
   "execution_count": 133,
   "id": "fda1583f",
   "metadata": {},
   "outputs": [
    {
     "data": {
      "text/html": [
       "<div>\n",
       "<style scoped>\n",
       "    .dataframe tbody tr th:only-of-type {\n",
       "        vertical-align: middle;\n",
       "    }\n",
       "\n",
       "    .dataframe tbody tr th {\n",
       "        vertical-align: top;\n",
       "    }\n",
       "\n",
       "    .dataframe thead th {\n",
       "        text-align: right;\n",
       "    }\n",
       "</style>\n",
       "<table border=\"1\" class=\"dataframe\">\n",
       "  <thead>\n",
       "    <tr style=\"text-align: right;\">\n",
       "      <th></th>\n",
       "      <th>Account Length</th>\n",
       "      <th>VMail Message</th>\n",
       "      <th>Day Mins</th>\n",
       "      <th>Eve Mins</th>\n",
       "      <th>Night Mins</th>\n",
       "      <th>Intl Mins</th>\n",
       "      <th>CustServ Calls</th>\n",
       "      <th>Churn</th>\n",
       "      <th>Intl Plan</th>\n",
       "      <th>VMail Plan</th>\n",
       "      <th>...</th>\n",
       "      <th>Day Charge</th>\n",
       "      <th>Eve Calls</th>\n",
       "      <th>Eve Charge</th>\n",
       "      <th>Night Calls</th>\n",
       "      <th>Night Charge</th>\n",
       "      <th>Intl Calls</th>\n",
       "      <th>Intl Charge</th>\n",
       "      <th>State</th>\n",
       "      <th>Area Code</th>\n",
       "      <th>Phone</th>\n",
       "    </tr>\n",
       "  </thead>\n",
       "  <tbody>\n",
       "    <tr>\n",
       "      <th>0</th>\n",
       "      <td>128</td>\n",
       "      <td>25</td>\n",
       "      <td>265.1</td>\n",
       "      <td>197.4</td>\n",
       "      <td>244.7</td>\n",
       "      <td>10.0</td>\n",
       "      <td>1</td>\n",
       "      <td>0</td>\n",
       "      <td>0</td>\n",
       "      <td>1</td>\n",
       "      <td>...</td>\n",
       "      <td>45.07</td>\n",
       "      <td>99</td>\n",
       "      <td>16.78</td>\n",
       "      <td>91</td>\n",
       "      <td>11.01</td>\n",
       "      <td>3</td>\n",
       "      <td>2.70</td>\n",
       "      <td>KS</td>\n",
       "      <td>415</td>\n",
       "      <td>382-4657</td>\n",
       "    </tr>\n",
       "    <tr>\n",
       "      <th>1</th>\n",
       "      <td>107</td>\n",
       "      <td>26</td>\n",
       "      <td>161.6</td>\n",
       "      <td>195.5</td>\n",
       "      <td>254.4</td>\n",
       "      <td>13.7</td>\n",
       "      <td>1</td>\n",
       "      <td>0</td>\n",
       "      <td>0</td>\n",
       "      <td>1</td>\n",
       "      <td>...</td>\n",
       "      <td>27.47</td>\n",
       "      <td>103</td>\n",
       "      <td>16.62</td>\n",
       "      <td>103</td>\n",
       "      <td>11.45</td>\n",
       "      <td>3</td>\n",
       "      <td>3.70</td>\n",
       "      <td>OH</td>\n",
       "      <td>415</td>\n",
       "      <td>371-7191</td>\n",
       "    </tr>\n",
       "    <tr>\n",
       "      <th>2</th>\n",
       "      <td>137</td>\n",
       "      <td>0</td>\n",
       "      <td>243.4</td>\n",
       "      <td>121.2</td>\n",
       "      <td>162.6</td>\n",
       "      <td>12.2</td>\n",
       "      <td>0</td>\n",
       "      <td>0</td>\n",
       "      <td>0</td>\n",
       "      <td>0</td>\n",
       "      <td>...</td>\n",
       "      <td>41.38</td>\n",
       "      <td>110</td>\n",
       "      <td>10.30</td>\n",
       "      <td>104</td>\n",
       "      <td>7.32</td>\n",
       "      <td>5</td>\n",
       "      <td>3.29</td>\n",
       "      <td>NJ</td>\n",
       "      <td>415</td>\n",
       "      <td>358-1921</td>\n",
       "    </tr>\n",
       "    <tr>\n",
       "      <th>3</th>\n",
       "      <td>84</td>\n",
       "      <td>0</td>\n",
       "      <td>299.4</td>\n",
       "      <td>61.9</td>\n",
       "      <td>196.9</td>\n",
       "      <td>6.6</td>\n",
       "      <td>2</td>\n",
       "      <td>0</td>\n",
       "      <td>1</td>\n",
       "      <td>0</td>\n",
       "      <td>...</td>\n",
       "      <td>50.90</td>\n",
       "      <td>88</td>\n",
       "      <td>5.26</td>\n",
       "      <td>89</td>\n",
       "      <td>8.86</td>\n",
       "      <td>7</td>\n",
       "      <td>1.78</td>\n",
       "      <td>OH</td>\n",
       "      <td>408</td>\n",
       "      <td>375-9999</td>\n",
       "    </tr>\n",
       "    <tr>\n",
       "      <th>4</th>\n",
       "      <td>75</td>\n",
       "      <td>0</td>\n",
       "      <td>166.7</td>\n",
       "      <td>148.3</td>\n",
       "      <td>186.9</td>\n",
       "      <td>10.1</td>\n",
       "      <td>3</td>\n",
       "      <td>0</td>\n",
       "      <td>1</td>\n",
       "      <td>0</td>\n",
       "      <td>...</td>\n",
       "      <td>28.34</td>\n",
       "      <td>122</td>\n",
       "      <td>12.61</td>\n",
       "      <td>121</td>\n",
       "      <td>8.41</td>\n",
       "      <td>3</td>\n",
       "      <td>2.73</td>\n",
       "      <td>OK</td>\n",
       "      <td>415</td>\n",
       "      <td>330-6626</td>\n",
       "    </tr>\n",
       "  </tbody>\n",
       "</table>\n",
       "<p>5 rows × 21 columns</p>\n",
       "</div>"
      ],
      "text/plain": [
       "   Account Length  VMail Message  Day Mins  Eve Mins  Night Mins  Intl Mins  \\\n",
       "0             128             25     265.1     197.4       244.7       10.0   \n",
       "1             107             26     161.6     195.5       254.4       13.7   \n",
       "2             137              0     243.4     121.2       162.6       12.2   \n",
       "3              84              0     299.4      61.9       196.9        6.6   \n",
       "4              75              0     166.7     148.3       186.9       10.1   \n",
       "\n",
       "   CustServ Calls  Churn  Intl Plan  VMail Plan  ...  Day Charge  Eve Calls  \\\n",
       "0               1      0          0           1  ...       45.07         99   \n",
       "1               1      0          0           1  ...       27.47        103   \n",
       "2               0      0          0           0  ...       41.38        110   \n",
       "3               2      0          1           0  ...       50.90         88   \n",
       "4               3      0          1           0  ...       28.34        122   \n",
       "\n",
       "   Eve Charge  Night Calls  Night Charge  Intl Calls  Intl Charge  State  \\\n",
       "0       16.78           91         11.01           3         2.70     KS   \n",
       "1       16.62          103         11.45           3         3.70     OH   \n",
       "2       10.30          104          7.32           5         3.29     NJ   \n",
       "3        5.26           89          8.86           7         1.78     OH   \n",
       "4       12.61          121          8.41           3         2.73     OK   \n",
       "\n",
       "  Area Code     Phone  \n",
       "0       415  382-4657  \n",
       "1       415  371-7191  \n",
       "2       415  358-1921  \n",
       "3       408  375-9999  \n",
       "4       415  330-6626  \n",
       "\n",
       "[5 rows x 21 columns]"
      ]
     },
     "execution_count": 133,
     "metadata": {},
     "output_type": "execute_result"
    }
   ],
   "source": [
    "churn.head()"
   ]
  },
  {
   "cell_type": "code",
   "execution_count": 134,
   "id": "224d275c",
   "metadata": {},
   "outputs": [
    {
     "data": {
      "text/plain": [
       "Account Length    0\n",
       "VMail Message     0\n",
       "Day Mins          0\n",
       "Eve Mins          0\n",
       "Night Mins        0\n",
       "Intl Mins         0\n",
       "CustServ Calls    0\n",
       "Churn             0\n",
       "Intl Plan         0\n",
       "VMail Plan        0\n",
       "Day Calls         0\n",
       "Day Charge        0\n",
       "Eve Calls         0\n",
       "Eve Charge        0\n",
       "Night Calls       0\n",
       "Night Charge      0\n",
       "Intl Calls        0\n",
       "Intl Charge       0\n",
       "State             0\n",
       "Area Code         0\n",
       "Phone             0\n",
       "dtype: int64"
      ]
     },
     "execution_count": 134,
     "metadata": {},
     "output_type": "execute_result"
    }
   ],
   "source": [
    "churn.isna().sum()"
   ]
  },
  {
   "cell_type": "code",
   "execution_count": 135,
   "id": "15910bf9",
   "metadata": {},
   "outputs": [
    {
     "data": {
      "text/plain": [
       "0    2850\n",
       "1     483\n",
       "Name: Churn, dtype: int64"
      ]
     },
     "execution_count": 135,
     "metadata": {},
     "output_type": "execute_result"
    }
   ],
   "source": [
    "churn.Churn.value_counts()"
   ]
  },
  {
   "cell_type": "code",
   "execution_count": 136,
   "id": "2e012618",
   "metadata": {},
   "outputs": [
    {
     "data": {
      "text/plain": [
       "<AxesSubplot:>"
      ]
     },
     "execution_count": 136,
     "metadata": {},
     "output_type": "execute_result"
    },
    {
     "data": {
      "image/png": "[encoded data removed]",
      "text/plain": [
       "<Figure size 1080x576 with 2 Axes>"
      ]
     },
     "metadata": {
      "needs_background": "light"
     },
     "output_type": "display_data"
    }
   ],
   "source": [
    "plt.figure(figsize=(15,8))\n",
    "sns.heatmap(churn.corr(),annot=True,linewidth=0.8)"
   ]
  },
  {
   "cell_type": "code",
   "execution_count": 137,
   "id": "b365e0f6",
   "metadata": {},
   "outputs": [],
   "source": [
    "cols = [\"Day Mins\",\"Eve Mins\",\"Intl Plan\",\"VMail Message\"]"
   ]
  },
  {
   "cell_type": "code",
   "execution_count": 138,
   "id": "796b3d03",
   "metadata": {},
   "outputs": [],
   "source": [
    "y = churn[\"Churn\"]\n",
    "X = churn[cols]"
   ]
  },
  {
   "cell_type": "code",
   "execution_count": 139,
   "id": "987c15b9",
   "metadata": {},
   "outputs": [],
   "source": [
    "X_train_cv, x_test, y_train_cv, y_test = train_test_split(X,y,test_size=0.3,random_state=42)"
   ]
  },
  {
   "cell_type": "code",
   "execution_count": 140,
   "id": "56a972f6",
   "metadata": {},
   "outputs": [
    {
     "data": {
      "text/plain": [
       "(2333, 4)"
      ]
     },
     "execution_count": 140,
     "metadata": {},
     "output_type": "execute_result"
    }
   ],
   "source": [
    "X_train_cv.shape"
   ]
  },
  {
   "cell_type": "code",
   "execution_count": 141,
   "id": "95c02c3b",
   "metadata": {},
   "outputs": [
    {
     "data": {
      "text/plain": [
       "(1000, 4)"
      ]
     },
     "execution_count": 141,
     "metadata": {},
     "output_type": "execute_result"
    }
   ],
   "source": [
    "x_test.shape"
   ]
  },
  {
   "cell_type": "code",
   "execution_count": 142,
   "id": "58c15636",
   "metadata": {},
   "outputs": [],
   "source": [
    "X_train,x_val,y_train,y_val = train_test_split(X_train_cv,y_train_cv,test_size=0.25,random_state=42)"
   ]
  },
  {
   "cell_type": "code",
   "execution_count": 143,
   "id": "c76e4821",
   "metadata": {},
   "outputs": [],
   "source": [
    "error = []\n",
    "for i in range(1,51):\n",
    "    knn = KNeighborsClassifier(n_neighbors=i,metric='euclidean')\n",
    "    knn.fit(X_train,y_train)\n",
    "    pred_i = knn.predict(x_val)\n",
    "    error.append(np.mean(pred_i != y_val))"
   ]
  },
  {
   "cell_type": "code",
   "execution_count": 144,
   "id": "d51cfc61",
   "metadata": {},
   "outputs": [
    {
     "data": {
      "text/plain": [
       "Text(0, 0.5, 'Mean Error')"
      ]
     },
     "execution_count": 144,
     "metadata": {},
     "output_type": "execute_result"
    },
    {
     "data": {
      "image/png": "[encoded data removed]",
      "text/plain": [
       "<Figure size 864x432 with 1 Axes>"
      ]
     },
     "metadata": {
      "needs_background": "light"
     },
     "output_type": "display_data"
    }
   ],
   "source": [
    "plt.figure(figsize=(12,6))\n",
    "plt.plot(range(1,51),error,color='red',linestyle='dashed',marker='o',markerfacecolor='blue',markersize=10)\n",
    "plt.title(\"Error rate K Value\")\n",
    "plt.xlabel('K Value')\n",
    "plt.ylabel(\"Mean Error\")"
   ]
  },
  {
   "cell_type": "code",
   "execution_count": 145,
   "id": "123ed480",
   "metadata": {},
   "outputs": [
    {
     "data": {
      "text/plain": [
       "KNeighborsClassifier(metric='euclidean', n_neighbors=19)"
      ]
     },
     "execution_count": 145,
     "metadata": {},
     "output_type": "execute_result"
    }
   ],
   "source": [
    "knn = KNeighborsClassifier(n_neighbors=19,metric='euclidean')\n",
    "knn.fit(X_train,y_train)"
   ]
  },
  {
   "cell_type": "code",
   "execution_count": 146,
   "id": "57963123",
   "metadata": {},
   "outputs": [
    {
     "data": {
      "text/plain": [
       "0.902"
      ]
     },
     "execution_count": 146,
     "metadata": {},
     "output_type": "execute_result"
    }
   ],
   "source": [
    "y_pred = knn.predict(x_test)\n",
    "knn.score(x_test,y_test)"
   ]
  },
  {
   "cell_type": "code",
   "execution_count": 147,
   "id": "fbdcd5b0",
   "metadata": {},
   "outputs": [],
   "source": [
    "cm = confusion_matrix(y_test,y_pred,labels=knn.classes_)"
   ]
  },
  {
   "cell_type": "code",
   "execution_count": 148,
   "id": "a426292f",
   "metadata": {},
   "outputs": [
    {
     "data": {
      "text/plain": [
       "<sklearn.metrics._plot.confusion_matrix.ConfusionMatrixDisplay at 0x20316438c10>"
      ]
     },
     "execution_count": 148,
     "metadata": {},
     "output_type": "execute_result"
    },
    {
     "data": {
      "image/png": "[encoded data removed]",
      "text/plain": [
       "<Figure size 432x288 with 2 Axes>"
      ]
     },
     "metadata": {
      "needs_background": "light"
     },
     "output_type": "display_data"
    }
   ],
   "source": [
    "disp = ConfusionMatrixDisplay(cm,display_labels = knn.classes_)\n",
    "disp.plot()"
   ]
  },
  {
   "cell_type": "code",
   "execution_count": 149,
   "id": "8180a6b8",
   "metadata": {},
   "outputs": [
    {
     "name": "stdout",
     "output_type": "stream",
     "text": [
      "              precision    recall  f1-score   support\n",
      "\n",
      "           0       0.90      0.99      0.95       857\n",
      "           1       0.88      0.36      0.51       143\n",
      "\n",
      "    accuracy                           0.90      1000\n",
      "   macro avg       0.89      0.68      0.73      1000\n",
      "weighted avg       0.90      0.90      0.88      1000\n",
      "\n"
     ]
    }
   ],
   "source": [
    "print(classification_report(y_test,y_pred))"
   ]
  },
  {
   "cell_type": "code",
   "execution_count": 150,
   "id": "67071bf8",
   "metadata": {},
   "outputs": [
    {
     "data": {
      "text/plain": [
       "0.6860158311345647"
      ]
     },
     "execution_count": 150,
     "metadata": {},
     "output_type": "execute_result"
    }
   ],
   "source": [
    "fbeta_score(y_test,y_pred,beta=0.5)"
   ]
  },
  {
   "cell_type": "code",
   "execution_count": 151,
   "id": "5ddd9f34",
   "metadata": {},
   "outputs": [
    {
     "data": {
      "text/plain": [
       "0.4120443740095087"
      ]
     },
     "execution_count": 151,
     "metadata": {},
     "output_type": "execute_result"
    }
   ],
   "source": [
    "fbeta_score(y_test, y_pred, beta = 2)"
   ]
  },
  {
   "cell_type": "code",
   "execution_count": 152,
   "id": "2c7167eb",
   "metadata": {},
   "outputs": [
    {
     "name": "stderr",
     "output_type": "stream",
     "text": [
      "C:\\Users\\cheta\\AppData\\Local\\Temp\\ipykernel_25132\\1021547414.py:9: RuntimeWarning: divide by zero encountered in double_scalars\n",
      "  scaled_lr = make_pipeline(scaler, LogisticRegression(C=1/la))\n"
     ]
    }
   ],
   "source": [
    "train_scores = []\n",
    "val_scores = []\n",
    "scaler = StandardScaler()\n",
    "l = 0.0\n",
    "h = 50.0\n",
    "d = 0.5\n",
    "\n",
    "for la in np.arange(l,h,d):\n",
    "    scaled_lr = make_pipeline(scaler, LogisticRegression(C=1/la))\n",
    "    scaled_lr.fit(X_train,y_train)\n",
    "    train_y_predict = scaled_lr.predict(X_train)\n",
    "    val_y_pred = scaled_lr.predict(x_val)\n",
    "    train_score = f1_score(y_train,train_y_predict)\n",
    "    val_score = f1_score(y_val,val_y_pred)\n",
    "    train_scores.append(train_score)\n",
    "    val_scores.append(val_score)"
   ]
  },
  {
   "cell_type": "code",
   "execution_count": 153,
   "id": "b13691a5",
   "metadata": {},
   "outputs": [
    {
     "data": {
      "image/png": "[encoded data removed]",
      "text/plain": [
       "<Figure size 432x288 with 1 Axes>"
      ]
     },
     "metadata": {
      "needs_background": "light"
     },
     "output_type": "display_data"
    }
   ],
   "source": [
    "plt.figure()\n",
    "plt.plot(list(np.arange(l,h,d)), train_scores, label=\"train\")\n",
    "plt.plot(list(np.arange(l,h,d)), val_scores, label=\"val\")\n",
    "plt.legend(loc='lower right')\n",
    "plt.xlabel(\"lambda\")\n",
    "plt.ylabel(\"F1-Score\")\n",
    "plt.grid()\n",
    "plt.show()"
   ]
  },
  {
   "cell_type": "code",
   "execution_count": 154,
   "id": "76b4ecbb",
   "metadata": {},
   "outputs": [
    {
     "name": "stderr",
     "output_type": "stream",
     "text": [
      "C:\\Users\\cheta\\AppData\\Local\\Temp\\ipykernel_25132\\2237893412.py:9: RuntimeWarning: divide by zero encountered in double_scalars\n",
      "  scaled_lr = make_pipeline( scaler, LogisticRegression(C=1/la,class_weight=({0:1,1:6}) ))\n"
     ]
    }
   ],
   "source": [
    "train_scores = []\n",
    "val_scores = []\n",
    "scaler = StandardScaler()\n",
    "l = 0.0\n",
    "h = 50.0\n",
    "d = 0.5\n",
    "\n",
    "for la in np.arange(l,h,d):\n",
    "    scaled_lr = make_pipeline( scaler, LogisticRegression(C=1/la,class_weight=({0:1,1:6}) ))\n",
    "    scaled_lr.fit(X_train,y_train)\n",
    "    train_y_predict = scaled_lr.predict(X_train)\n",
    "    val_y_pred = scaled_lr.predict(x_val)\n",
    "    train_score = f1_score(y_train,train_y_predict)\n",
    "    val_score = f1_score(y_val,val_y_pred)\n",
    "    train_scores.append(train_score)\n",
    "    val_scores.append(val_score)"
   ]
  },
  {
   "cell_type": "code",
   "execution_count": 155,
   "id": "61166cd6",
   "metadata": {},
   "outputs": [
    {
     "data": {
      "image/png": "[encoded data removed]",
      "text/plain": [
       "<Figure size 432x288 with 1 Axes>"
      ]
     },
     "metadata": {
      "needs_background": "light"
     },
     "output_type": "display_data"
    }
   ],
   "source": [
    "plt.figure()\n",
    "plt.plot(list(np.arange(l,h,d)), train_scores, label=\"train\")\n",
    "plt.plot(list(np.arange(l,h,d)), val_scores, label=\"val\")\n",
    "plt.legend(loc='lower right')\n",
    "plt.xlabel(\"lambda\")\n",
    "plt.ylabel(\"F1-Score\")\n",
    "plt.grid()\n",
    "plt.show()"
   ]
  },
  {
   "cell_type": "code",
   "execution_count": 156,
   "id": "658dd4fb",
   "metadata": {},
   "outputs": [
    {
     "name": "stdout",
     "output_type": "stream",
     "text": [
      "0.38132295719844356\n"
     ]
    }
   ],
   "source": [
    "best_index = np.argmax(val_scores)\n",
    "print(val_scores[best_index])"
   ]
  },
  {
   "cell_type": "code",
   "execution_count": 157,
   "id": "5b8da3ab",
   "metadata": {},
   "outputs": [
    {
     "name": "stdout",
     "output_type": "stream",
     "text": [
      "0.4332603938730853\n"
     ]
    }
   ],
   "source": [
    "best_idx = np.argmax(val_scores)\n",
    "l_best = l+d*best_idx\n",
    "scaled_lr = make_pipeline( scaler, LogisticRegression(C=1/l_best, class_weight={ 0:1, 1:6 }))\n",
    "scaled_lr.fit(X_train, y_train)\n",
    "\n",
    "y_pred_test = scaled_lr.predict(x_test)\n",
    "test_score = f1_score(y_test, y_pred_test)\n",
    "\n",
    "print(test_score)"
   ]
  },
  {
   "cell_type": "code",
   "execution_count": 158,
   "id": "d6cd170a",
   "metadata": {},
   "outputs": [
    {
     "name": "stdout",
     "output_type": "stream",
     "text": [
      "              precision    recall  f1-score   support\n",
      "\n",
      "           0       0.94      0.75      0.83       857\n",
      "           1       0.32      0.69      0.43       143\n",
      "\n",
      "    accuracy                           0.74      1000\n",
      "   macro avg       0.63      0.72      0.63      1000\n",
      "weighted avg       0.85      0.74      0.78      1000\n",
      "\n"
     ]
    }
   ],
   "source": [
    "print(classification_report(y_test, y_pred_test))"
   ]
  },
  {
   "cell_type": "code",
   "execution_count": 125,
   "id": "afed6b49",
   "metadata": {},
   "outputs": [],
   "source": [
    "from imblearn.over_sampling import SMOTE\n",
    "from collections import Counter"
   ]
  },
  {
   "cell_type": "code",
   "execution_count": 126,
   "id": "bc40848d",
   "metadata": {},
   "outputs": [],
   "source": [
    "smt = SMOTE(sampling_strategy=0.5)"
   ]
  },
  {
   "cell_type": "code",
   "execution_count": 127,
   "id": "a644f8aa",
   "metadata": {},
   "outputs": [],
   "source": [
    "x_sm, y_sm = smt.fit_resample(X_train,y_train)"
   ]
  },
  {
   "cell_type": "code",
   "execution_count": 161,
   "id": "1d4862b9",
   "metadata": {},
   "outputs": [
    {
     "name": "stdout",
     "output_type": "stream",
     "text": [
      "Resampled datase shape Counter({0: 1487, 1: 743})\n"
     ]
    }
   ],
   "source": [
    "print(f\"Resampled datase shape {Counter(y_sm)}\")"
   ]
  },
  {
   "cell_type": "code",
   "execution_count": 164,
   "id": "d1020fef",
   "metadata": {},
   "outputs": [
    {
     "data": {
      "image/png": "[encoded data removed]",
      "text/plain": [
       "<Figure size 432x288 with 1 Axes>"
      ]
     },
     "metadata": {
      "needs_background": "light"
     },
     "output_type": "display_data"
    }
   ],
   "source": [
    "train_scores = []\n",
    "val_scores = []\n",
    "scaler = StandardScaler()\n",
    "l = 0.01\n",
    "h = 50.0\n",
    "d = 0.05\n",
    "\n",
    "for la in np.arange(l,h,d):\n",
    "  scaled_lr = make_pipeline( scaler, LogisticRegression(C=1/la))\n",
    "  scaled_lr.fit(x_sm, y_sm)\n",
    "  train_score = f1_score(y_sm, scaled_lr.predict(x_sm))\n",
    "  val_score = f1_score(y_val, scaled_lr.predict(x_val))\n",
    "  train_scores.append(train_score)\n",
    "  val_scores.append(val_score)\n",
    "\n",
    "plt.figure()\n",
    "plt.plot(list(np.arange(l,h,d)), train_scores, label=\"train\")\n",
    "plt.plot(list(np.arange(l,h,d)), val_scores, label=\"val\")\n",
    "plt.legend(loc='lower right')\n",
    "plt.xlabel(\"lambda\")\n",
    "plt.ylabel(\"F1 Score\")\n",
    "plt.grid()\n",
    "plt.show()"
   ]
  },
  {
   "cell_type": "code",
   "execution_count": 168,
   "id": "793d7efe",
   "metadata": {},
   "outputs": [
    {
     "name": "stdout",
     "output_type": "stream",
     "text": [
      "0.6090225563909776\n"
     ]
    }
   ],
   "source": [
    "best_idx = np.argmax(val_scores)\n",
    "l_best = l+d*best_idx\n",
    "scaled_lr = make_pipeline( scaler, LogisticRegression(C=1/l_best))\n",
    "scaled_lr.fit(x_sm, y_sm)\n",
    "\n",
    "y_pred_test = scaled_lr.predict(x_test)\n",
    "test_score = f1_score(y_test, y_pred_test)\n",
    "\n",
    "print(test_score)"
   ]
  },
  {
   "cell_type": "code",
   "execution_count": 169,
   "id": "2d86cc53",
   "metadata": {},
   "outputs": [
    {
     "name": "stdout",
     "output_type": "stream",
     "text": [
      "              precision    recall  f1-score   support\n",
      "\n",
      "           0       0.93      0.95      0.94       857\n",
      "           1       0.66      0.57      0.61       143\n",
      "\n",
      "    accuracy                           0.90      1000\n",
      "   macro avg       0.79      0.76      0.77      1000\n",
      "weighted avg       0.89      0.90      0.89      1000\n",
      "\n"
     ]
    }
   ],
   "source": [
    "print(classification_report(y_test, y_pred_test))"
   ]
  },
  {
   "cell_type": "code",
   "execution_count": 170,
   "id": "7a4aea61",
   "metadata": {},
   "outputs": [],
   "source": [
    "f2 = fbeta_score(y_test,y_pred_test,beta=2)\n",
    "f0 = fbeta_score(y_test,y_pred_test,beta=0.5)"
   ]
  },
  {
   "cell_type": "code",
   "execution_count": 171,
   "id": "6006a4f6",
   "metadata": {},
   "outputs": [
    {
     "name": "stdout",
     "output_type": "stream",
     "text": [
      "0.5827338129496403 0.6377952755905512\n"
     ]
    }
   ],
   "source": [
    "print(f2, f0)"
   ]
  },
  {
   "cell_type": "code",
   "execution_count": null,
   "id": "1ba1c6cd",
   "metadata": {},
   "outputs": [],
   "source": []
  }
 ],
 "metadata": {
  "kernelspec": {
   "display_name": "Python 3 (ipykernel)",
   "language": "python",
   "name": "python3"
  },
  "language_info": {
   "codemirror_mode": {
    "name": "ipython",
    "version": 3
   },
   "file_extension": ".py",
   "mimetype": "text/x-python",
   "name": "python",
   "nbconvert_exporter": "python",
   "pygments_lexer": "ipython3",
   "version": "3.9.12"
  }
 },
 "nbformat": 4,
 "nbformat_minor": 5
}
